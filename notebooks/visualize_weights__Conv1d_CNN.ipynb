{
 "cells": [
  {
   "cell_type": "markdown",
   "metadata": {
    "toc": true
   },
   "source": [
    "<h1>Table of Contents<span class=\"tocSkip\"></span></h1>\n",
    "<div class=\"toc\"><ul class=\"toc-item\"><li><span><a href=\"#Setting\" data-toc-modified-id=\"Setting-1\"><span class=\"toc-item-num\">1&nbsp;&nbsp;</span>Setting</a></span><ul class=\"toc-item\"><li><span><a href=\"#Path\" data-toc-modified-id=\"Path-1.1\"><span class=\"toc-item-num\">1.1&nbsp;&nbsp;</span>Path</a></span></li></ul></li><li><span><a href=\"#１次元の時系列データ作成\" data-toc-modified-id=\"１次元の時系列データ作成-2\"><span class=\"toc-item-num\">2&nbsp;&nbsp;</span>１次元の時系列データ作成</a></span></li><li><span><a href=\"#Model\" data-toc-modified-id=\"Model-3\"><span class=\"toc-item-num\">3&nbsp;&nbsp;</span>Model</a></span></li></ul></div>"
   ]
  },
  {
   "cell_type": "markdown",
   "metadata": {},
   "source": [
    "# visualize_weights__Conv1d_CNN\n",
    "\n",
    "- <a href=\"https://github.com/keras-team/keras/tree/master/examples\">keras/examples at master · keras-team/keras</a>\n",
    "    - <a href=\"keras/imdb_cnn.py at master · keras-team/keras\">keras/imdb_cnn.py at master · keras-team/keras</a>\n",
    "        - Demonstrates the use of Convolution1D for text classification"
   ]
  },
  {
   "cell_type": "code",
   "execution_count": 1,
   "metadata": {},
   "outputs": [
    {
     "name": "stderr",
     "output_type": "stream",
     "text": [
      "Using TensorFlow backend.\n"
     ]
    },
    {
     "name": "stdout",
     "output_type": "stream",
     "text": [
      "3.5.2 (default, Nov 23 2017, 16:37:01) \n",
      "[GCC 5.4.0 20160609]\n",
      "tensorflow version :  1.9.0\n",
      "keras version :  2.2.0\n"
     ]
    }
   ],
   "source": [
    "import os, sys\n",
    "from pathlib import Path\n",
    "import numpy as np\n",
    "import matplotlib.pyplot as plt\n",
    "%matplotlib inline\n",
    "\n",
    "import keras\n",
    "import tensorflow as tf\n",
    "\n",
    "print(sys.version)\n",
    "print(\"tensorflow version : \", tf.__version__)\n",
    "print(\"keras version : \", keras.__version__)"
   ]
  },
  {
   "cell_type": "markdown",
   "metadata": {},
   "source": [
    "## Setting"
   ]
  },
  {
   "cell_type": "markdown",
   "metadata": {},
   "source": [
    "### Path"
   ]
  },
  {
   "cell_type": "code",
   "execution_count": 2,
   "metadata": {},
   "outputs": [
    {
     "data": {
      "text/plain": [
       "PosixPath('/home/sugihiro/workdir/git/github/visualize_deep_learning_weights')"
      ]
     },
     "execution_count": 2,
     "metadata": {},
     "output_type": "execute_result"
    }
   ],
   "source": [
    "HOME = Path(os.getcwd()).parent\n",
    "HOME"
   ]
  },
  {
   "cell_type": "code",
   "execution_count": 10,
   "metadata": {},
   "outputs": [
    {
     "name": "stdout",
     "output_type": "stream",
     "text": [
      "True\n",
      "/home/sugihiro/workdir/git/github/visualize_deep_learning_weights/data\n"
     ]
    }
   ],
   "source": [
    "path_check_list = []\n",
    "data_Path = HOME / \"data\"\n",
    "path_check_list.append(data_Path)\n",
    "\n",
    "#------------------------------------------------------------\n",
    "# Check path existance, if not, make directories\n",
    "#------------------------------------------------------------\n",
    "for _Path in path_check_list:\n",
    "    _dire = str(_Path)\n",
    "    print(os.path.exists(_dire))\n",
    "    if not os.path.exists(_dire):\n",
    "        os.makedirs(name=_dire)\n",
    "    print(_dire)"
   ]
  },
  {
   "cell_type": "markdown",
   "metadata": {},
   "source": [
    "## １次元の時系列データ作成"
   ]
  },
  {
   "cell_type": "code",
   "execution_count": null,
   "metadata": {},
   "outputs": [],
   "source": []
  },
  {
   "cell_type": "code",
   "execution_count": null,
   "metadata": {},
   "outputs": [],
   "source": []
  },
  {
   "cell_type": "markdown",
   "metadata": {},
   "source": [
    "## Model"
   ]
  },
  {
   "cell_type": "code",
   "execution_count": null,
   "metadata": {},
   "outputs": [],
   "source": []
  },
  {
   "cell_type": "code",
   "execution_count": null,
   "metadata": {},
   "outputs": [],
   "source": []
  },
  {
   "cell_type": "code",
   "execution_count": null,
   "metadata": {},
   "outputs": [],
   "source": []
  },
  {
   "cell_type": "code",
   "execution_count": null,
   "metadata": {},
   "outputs": [],
   "source": []
  }
 ],
 "metadata": {
  "kernelspec": {
   "display_name": "Python 3",
   "language": "python",
   "name": "python3"
  },
  "language_info": {
   "codemirror_mode": {
    "name": "ipython",
    "version": 3
   },
   "file_extension": ".py",
   "mimetype": "text/x-python",
   "name": "python",
   "nbconvert_exporter": "python",
   "pygments_lexer": "ipython3",
   "version": "3.5.2"
  },
  "toc": {
   "nav_menu": {},
   "number_sections": true,
   "sideBar": true,
   "skip_h1_title": true,
   "title_cell": "Table of Contents",
   "title_sidebar": "Contents",
   "toc_cell": true,
   "toc_position": {
    "height": "calc(100% - 180px)",
    "left": "10px",
    "top": "150px",
    "width": "265px"
   },
   "toc_section_display": true,
   "toc_window_display": true
  }
 },
 "nbformat": 4,
 "nbformat_minor": 2
}
